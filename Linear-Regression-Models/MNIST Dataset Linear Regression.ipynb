{
 "metadata": {
  "language_info": {
   "codemirror_mode": {
    "name": "ipython",
    "version": 3
   },
   "file_extension": ".py",
   "mimetype": "text/x-python",
   "name": "python",
   "nbconvert_exporter": "python",
   "pygments_lexer": "ipython3",
   "version": "3.6.9"
  },
  "orig_nbformat": 2,
  "kernelspec": {
   "name": "python369jvsc74a57bd031f2aee4e71d21fbe5cf8b01ff0e069b9275f58929596ceb00d14d90e3e16cd6",
   "display_name": "Python 3.6.9 64-bit"
  },
  "metadata": {
   "interpreter": {
    "hash": "31f2aee4e71d21fbe5cf8b01ff0e069b9275f58929596ceb00d14d90e3e16cd6"
   }
  }
 },
 "nbformat": 4,
 "nbformat_minor": 2,
 "cells": [
  {
   "source": [
    "MNIST dataset Labels  \n",
    "Label\tClass  \n",
    "0   ---->\t T-shirt/top  \n",
    "1\t---->    Trouser  \n",
    "2\t---->    Pullover  \n",
    "3\t---->    Dress  \n",
    "4\t---->    Coat  \n",
    "5\t---->    Sandal  \n",
    "6\t---->    Shirt  \n",
    "7\t---->    Sneaker  \n",
    "8\t---->    Bag  \n",
    "9\t ---->   Ankle boot  "
   ],
   "cell_type": "markdown",
   "metadata": {}
  },
  {
   "cell_type": "code",
   "execution_count": 2,
   "metadata": {},
   "outputs": [
    {
     "output_type": "stream",
     "name": "stdout",
     "text": [
      "Imported Sucessfully\n"
     ]
    }
   ],
   "source": [
    "import numpy as np\n",
    "import pandas as pd\n",
    "import tensorflow as tf\n",
    "import matplotlib.pyplot as plt\n",
    "import seaborn as sns\n",
    "print(\"Imported Sucessfully\")"
   ]
  },
  {
   "source": [
    "Loading Dataset from Keras API\n"
   ],
   "cell_type": "markdown",
   "metadata": {}
  },
  {
   "cell_type": "code",
   "execution_count": 42,
   "metadata": {},
   "outputs": [
    {
     "output_type": "execute_result",
     "data": {
      "text/plain": [
       "tensorflow.python.util.deprecation_wrapper.DeprecationWrapper"
      ]
     },
     "metadata": {},
     "execution_count": 42
    }
   ],
   "source": [
    "mnist=tf.keras.datasets.fashion_mnist\n",
    "type(mnist)"
   ]
  },
  {
   "source": [
    "Splitting into training and testing data"
   ],
   "cell_type": "markdown",
   "metadata": {}
  },
  {
   "cell_type": "code",
   "execution_count": 8,
   "metadata": {},
   "outputs": [
    {
     "output_type": "stream",
     "name": "stdout",
     "text": [
      "Downloading data from https://storage.googleapis.com/tensorflow/tf-keras-datasets/train-labels-idx1-ubyte.gz\n",
      "32768/29515 [=================================] - 0s 2us/step\n",
      "Downloading data from https://storage.googleapis.com/tensorflow/tf-keras-datasets/train-images-idx3-ubyte.gz\n",
      "26427392/26421880 [==============================] - 9s 0us/step\n",
      "Downloading data from https://storage.googleapis.com/tensorflow/tf-keras-datasets/t10k-labels-idx1-ubyte.gz\n",
      "8192/5148 [===============================================] - 0s 0us/step\n",
      "Downloading data from https://storage.googleapis.com/tensorflow/tf-keras-datasets/t10k-images-idx3-ubyte.gz\n",
      "4423680/4422102 [==============================] - 1s 0us/step\n"
     ]
    }
   ],
   "source": [
    "(training_images, training_labels),(testing_images, testing_labels) = mnist.load_data()"
   ]
  },
  {
   "cell_type": "code",
   "execution_count": 20,
   "metadata": {},
   "outputs": [
    {
     "output_type": "execute_result",
     "data": {
      "text/plain": [
       "<matplotlib.image.AxesImage at 0x7fddffcf52b0>"
      ]
     },
     "metadata": {},
     "execution_count": 20
    },
    {
     "output_type": "display_data",
     "data": {
      "text/plain": "<matplotlib.figure.Figure at 0x7fddffe5c668>",
      "image/svg+xml": "<?xml version=\"1.0\" encoding=\"utf-8\" standalone=\"no\"?>\n<!DOCTYPE svg PUBLIC \"-//W3C//DTD SVG 1.1//EN\"\n  \"http://www.w3.org/Graphics/SVG/1.1/DTD/svg11.dtd\">\n<!-- Created with matplotlib (http://matplotlib.org/) -->\n<svg height=\"252pt\" version=\"1.1\" viewBox=\"0 0 255 252\" width=\"255pt\" xmlns=\"http://www.w3.org/2000/svg\" xmlns:xlink=\"http://www.w3.org/1999/xlink\">\n <defs>\n  <style type=\"text/css\">\n*{stroke-linecap:butt;stroke-linejoin:round;}\n  </style>\n </defs>\n <g id=\"figure_1\">\n  <g id=\"patch_1\">\n   <path d=\"M 0 252.018125 \nL 255.065 252.018125 \nL 255.065 0 \nL 0 0 \nz\n\" style=\"fill:none;\"/>\n  </g>\n  <g id=\"axes_1\">\n   <g id=\"patch_2\">\n    <path d=\"M 26.925 228.14 \nL 244.365 228.14 \nL 244.365 10.7 \nL 26.925 10.7 \nz\n\" style=\"fill:#ffffff;\"/>\n   </g>\n   <g clip-path=\"url(#pc094a3da60)\">\n    <image height=\"218\" id=\"image389feea8f1\" transform=\"scale(1 -1)translate(0 -218)\" width=\"218\" x=\"26.925\" xlink:href=\"data:image/png;base64,\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\" y=\"-10.14\"/>\n   </g>\n   <g id=\"matplotlib.axis_1\">\n    <g id=\"xtick_1\">\n     <g id=\"line2d_1\">\n      <defs>\n       <path d=\"M 0 0 \nL 0 3.5 \n\" id=\"m6351535699\" style=\"stroke:#000000;stroke-width:0.8;\"/>\n      </defs>\n      <g>\n       <use style=\"stroke:#000000;stroke-width:0.8;\" x=\"30.807857\" xlink:href=\"#m6351535699\" y=\"228.14\"/>\n      </g>\n     </g>\n     <g id=\"text_1\">\n      <!-- 0 -->\n      <defs>\n       <path d=\"M 31.78125 66.40625 \nQ 24.171875 66.40625 20.328125 58.90625 \nQ 16.5 51.421875 16.5 36.375 \nQ 16.5 21.390625 20.328125 13.890625 \nQ 24.171875 6.390625 31.78125 6.390625 \nQ 39.453125 6.390625 43.28125 13.890625 \nQ 47.125 21.390625 47.125 36.375 \nQ 47.125 51.421875 43.28125 58.90625 \nQ 39.453125 66.40625 31.78125 66.40625 \nz\nM 31.78125 74.21875 \nQ 44.046875 74.21875 50.515625 64.515625 \nQ 56.984375 54.828125 56.984375 36.375 \nQ 56.984375 17.96875 50.515625 8.265625 \nQ 44.046875 -1.421875 31.78125 -1.421875 \nQ 19.53125 -1.421875 13.0625 8.265625 \nQ 6.59375 17.96875 6.59375 36.375 \nQ 6.59375 54.828125 13.0625 64.515625 \nQ 19.53125 74.21875 31.78125 74.21875 \nz\n\" id=\"DejaVuSans-30\"/>\n      </defs>\n      <g transform=\"translate(27.626607 242.738437)scale(0.1 -0.1)\">\n       <use xlink:href=\"#DejaVuSans-30\"/>\n      </g>\n     </g>\n    </g>\n    <g id=\"xtick_2\">\n     <g id=\"line2d_2\">\n      <g>\n       <use style=\"stroke:#000000;stroke-width:0.8;\" x=\"69.636429\" xlink:href=\"#m6351535699\" y=\"228.14\"/>\n      </g>\n     </g>\n     <g id=\"text_2\">\n      <!-- 5 -->\n      <defs>\n       <path d=\"M 10.796875 72.90625 \nL 49.515625 72.90625 \nL 49.515625 64.59375 \nL 19.828125 64.59375 \nL 19.828125 46.734375 \nQ 21.96875 47.46875 24.109375 47.828125 \nQ 26.265625 48.1875 28.421875 48.1875 \nQ 40.625 48.1875 47.75 41.5 \nQ 54.890625 34.8125 54.890625 23.390625 \nQ 54.890625 11.625 47.5625 5.09375 \nQ 40.234375 -1.421875 26.90625 -1.421875 \nQ 22.3125 -1.421875 17.546875 -0.640625 \nQ 12.796875 0.140625 7.71875 1.703125 \nL 7.71875 11.625 \nQ 12.109375 9.234375 16.796875 8.0625 \nQ 21.484375 6.890625 26.703125 6.890625 \nQ 35.15625 6.890625 40.078125 11.328125 \nQ 45.015625 15.765625 45.015625 23.390625 \nQ 45.015625 31 40.078125 35.4375 \nQ 35.15625 39.890625 26.703125 39.890625 \nQ 22.75 39.890625 18.8125 39.015625 \nQ 14.890625 38.140625 10.796875 36.28125 \nz\n\" id=\"DejaVuSans-35\"/>\n      </defs>\n      <g transform=\"translate(66.455179 242.738437)scale(0.1 -0.1)\">\n       <use xlink:href=\"#DejaVuSans-35\"/>\n      </g>\n     </g>\n    </g>\n    <g id=\"xtick_3\">\n     <g id=\"line2d_3\">\n      <g>\n       <use style=\"stroke:#000000;stroke-width:0.8;\" x=\"108.465\" xlink:href=\"#m6351535699\" y=\"228.14\"/>\n      </g>\n     </g>\n     <g id=\"text_3\">\n      <!-- 10 -->\n      <defs>\n       <path d=\"M 12.40625 8.296875 \nL 28.515625 8.296875 \nL 28.515625 63.921875 \nL 10.984375 60.40625 \nL 10.984375 69.390625 \nL 28.421875 72.90625 \nL 38.28125 72.90625 \nL 38.28125 8.296875 \nL 54.390625 8.296875 \nL 54.390625 0 \nL 12.40625 0 \nz\n\" id=\"DejaVuSans-31\"/>\n      </defs>\n      <g transform=\"translate(102.1025 242.738437)scale(0.1 -0.1)\">\n       <use xlink:href=\"#DejaVuSans-31\"/>\n       <use x=\"63.623047\" xlink:href=\"#DejaVuSans-30\"/>\n      </g>\n     </g>\n    </g>\n    <g id=\"xtick_4\">\n     <g id=\"line2d_4\">\n      <g>\n       <use style=\"stroke:#000000;stroke-width:0.8;\" x=\"147.293571\" xlink:href=\"#m6351535699\" y=\"228.14\"/>\n      </g>\n     </g>\n     <g id=\"text_4\">\n      <!-- 15 -->\n      <g transform=\"translate(140.931071 242.738437)scale(0.1 -0.1)\">\n       <use xlink:href=\"#DejaVuSans-31\"/>\n       <use x=\"63.623047\" xlink:href=\"#DejaVuSans-35\"/>\n      </g>\n     </g>\n    </g>\n    <g id=\"xtick_5\">\n     <g id=\"line2d_5\">\n      <g>\n       <use style=\"stroke:#000000;stroke-width:0.8;\" x=\"186.122143\" xlink:href=\"#m6351535699\" y=\"228.14\"/>\n      </g>\n     </g>\n     <g id=\"text_5\">\n      <!-- 20 -->\n      <defs>\n       <path d=\"M 19.1875 8.296875 \nL 53.609375 8.296875 \nL 53.609375 0 \nL 7.328125 0 \nL 7.328125 8.296875 \nQ 12.9375 14.109375 22.625 23.890625 \nQ 32.328125 33.6875 34.8125 36.53125 \nQ 39.546875 41.84375 41.421875 45.53125 \nQ 43.3125 49.21875 43.3125 52.78125 \nQ 43.3125 58.59375 39.234375 62.25 \nQ 35.15625 65.921875 28.609375 65.921875 \nQ 23.96875 65.921875 18.8125 64.3125 \nQ 13.671875 62.703125 7.8125 59.421875 \nL 7.8125 69.390625 \nQ 13.765625 71.78125 18.9375 73 \nQ 24.125 74.21875 28.421875 74.21875 \nQ 39.75 74.21875 46.484375 68.546875 \nQ 53.21875 62.890625 53.21875 53.421875 \nQ 53.21875 48.921875 51.53125 44.890625 \nQ 49.859375 40.875 45.40625 35.40625 \nQ 44.1875 33.984375 37.640625 27.21875 \nQ 31.109375 20.453125 19.1875 8.296875 \nz\n\" id=\"DejaVuSans-32\"/>\n      </defs>\n      <g transform=\"translate(179.759643 242.738437)scale(0.1 -0.1)\">\n       <use xlink:href=\"#DejaVuSans-32\"/>\n       <use x=\"63.623047\" xlink:href=\"#DejaVuSans-30\"/>\n      </g>\n     </g>\n    </g>\n    <g id=\"xtick_6\">\n     <g id=\"line2d_6\">\n      <g>\n       <use style=\"stroke:#000000;stroke-width:0.8;\" x=\"224.950714\" xlink:href=\"#m6351535699\" y=\"228.14\"/>\n      </g>\n     </g>\n     <g id=\"text_6\">\n      <!-- 25 -->\n      <g transform=\"translate(218.588214 242.738437)scale(0.1 -0.1)\">\n       <use xlink:href=\"#DejaVuSans-32\"/>\n       <use x=\"63.623047\" xlink:href=\"#DejaVuSans-35\"/>\n      </g>\n     </g>\n    </g>\n   </g>\n   <g id=\"matplotlib.axis_2\">\n    <g id=\"ytick_1\">\n     <g id=\"line2d_7\">\n      <defs>\n       <path d=\"M 0 0 \nL -3.5 0 \n\" id=\"m34093b048d\" style=\"stroke:#000000;stroke-width:0.8;\"/>\n      </defs>\n      <g>\n       <use style=\"stroke:#000000;stroke-width:0.8;\" x=\"26.925\" xlink:href=\"#m34093b048d\" y=\"14.582857\"/>\n      </g>\n     </g>\n     <g id=\"text_7\">\n      <!-- 0 -->\n      <g transform=\"translate(13.5625 18.382076)scale(0.1 -0.1)\">\n       <use xlink:href=\"#DejaVuSans-30\"/>\n      </g>\n     </g>\n    </g>\n    <g id=\"ytick_2\">\n     <g id=\"line2d_8\">\n      <g>\n       <use style=\"stroke:#000000;stroke-width:0.8;\" x=\"26.925\" xlink:href=\"#m34093b048d\" y=\"53.411429\"/>\n      </g>\n     </g>\n     <g id=\"text_8\">\n      <!-- 5 -->\n      <g transform=\"translate(13.5625 57.210647)scale(0.1 -0.1)\">\n       <use xlink:href=\"#DejaVuSans-35\"/>\n      </g>\n     </g>\n    </g>\n    <g id=\"ytick_3\">\n     <g id=\"line2d_9\">\n      <g>\n       <use style=\"stroke:#000000;stroke-width:0.8;\" x=\"26.925\" xlink:href=\"#m34093b048d\" y=\"92.24\"/>\n      </g>\n     </g>\n     <g id=\"text_9\">\n      <!-- 10 -->\n      <g transform=\"translate(7.2 96.039219)scale(0.1 -0.1)\">\n       <use xlink:href=\"#DejaVuSans-31\"/>\n       <use x=\"63.623047\" xlink:href=\"#DejaVuSans-30\"/>\n      </g>\n     </g>\n    </g>\n    <g id=\"ytick_4\">\n     <g id=\"line2d_10\">\n      <g>\n       <use style=\"stroke:#000000;stroke-width:0.8;\" x=\"26.925\" xlink:href=\"#m34093b048d\" y=\"131.068571\"/>\n      </g>\n     </g>\n     <g id=\"text_10\">\n      <!-- 15 -->\n      <g transform=\"translate(7.2 134.86779)scale(0.1 -0.1)\">\n       <use xlink:href=\"#DejaVuSans-31\"/>\n       <use x=\"63.623047\" xlink:href=\"#DejaVuSans-35\"/>\n      </g>\n     </g>\n    </g>\n    <g id=\"ytick_5\">\n     <g id=\"line2d_11\">\n      <g>\n       <use style=\"stroke:#000000;stroke-width:0.8;\" x=\"26.925\" xlink:href=\"#m34093b048d\" y=\"169.897143\"/>\n      </g>\n     </g>\n     <g id=\"text_11\">\n      <!-- 20 -->\n      <g transform=\"translate(7.2 173.696362)scale(0.1 -0.1)\">\n       <use xlink:href=\"#DejaVuSans-32\"/>\n       <use x=\"63.623047\" xlink:href=\"#DejaVuSans-30\"/>\n      </g>\n     </g>\n    </g>\n    <g id=\"ytick_6\">\n     <g id=\"line2d_12\">\n      <g>\n       <use style=\"stroke:#000000;stroke-width:0.8;\" x=\"26.925\" xlink:href=\"#m34093b048d\" y=\"208.725714\"/>\n      </g>\n     </g>\n     <g id=\"text_12\">\n      <!-- 25 -->\n      <g transform=\"translate(7.2 212.524933)scale(0.1 -0.1)\">\n       <use xlink:href=\"#DejaVuSans-32\"/>\n       <use x=\"63.623047\" xlink:href=\"#DejaVuSans-35\"/>\n      </g>\n     </g>\n    </g>\n   </g>\n   <g id=\"patch_3\">\n    <path d=\"M 26.925 228.14 \nL 26.925 10.7 \n\" style=\"fill:none;stroke:#000000;stroke-linecap:square;stroke-linejoin:miter;stroke-width:0.8;\"/>\n   </g>\n   <g id=\"patch_4\">\n    <path d=\"M 244.365 228.14 \nL 244.365 10.7 \n\" style=\"fill:none;stroke:#000000;stroke-linecap:square;stroke-linejoin:miter;stroke-width:0.8;\"/>\n   </g>\n   <g id=\"patch_5\">\n    <path d=\"M 26.925 228.14 \nL 244.365 228.14 \n\" style=\"fill:none;stroke:#000000;stroke-linecap:square;stroke-linejoin:miter;stroke-width:0.8;\"/>\n   </g>\n   <g id=\"patch_6\">\n    <path d=\"M 26.925 10.7 \nL 244.365 10.7 \n\" style=\"fill:none;stroke:#000000;stroke-linecap:square;stroke-linejoin:miter;stroke-width:0.8;\"/>\n   </g>\n  </g>\n </g>\n <defs>\n  <clipPath id=\"pc094a3da60\">\n   <rect height=\"217.44\" width=\"217.44\" x=\"26.925\" y=\"10.7\"/>\n  </clipPath>\n </defs>\n</svg>\n",
      "image/png": "[encoded data removed]"
     },
     "metadata": {
      "needs_background": "light"
     }
    }
   ],
   "source": [
    "plt.imshow(training_images[1])"
   ]
  },
  {
   "cell_type": "code",
   "execution_count": 14,
   "metadata": {},
   "outputs": [
    {
     "output_type": "stream",
     "name": "stdout",
     "text": [
      "0\n"
     ]
    }
   ],
   "source": [
    "print(training_labels[1])"
   ]
  },
  {
   "cell_type": "code",
   "execution_count": 21,
   "metadata": {},
   "outputs": [
    {
     "output_type": "stream",
     "name": "stdout",
     "text": [
      "[[  0   0   0   0   0   0   0   0   0   0   0   0   0   0   0   0   0   0\n    0   0   0   0   0   0   0   0   0   0]\n [  0   0   0   0   0   0   0   0   0   0   0   0   0   0   0   0   0   0\n    0   0   0   0   0   0   0   0   0   0]\n [  0   0   0   0   0   0   0   0   0   0   0   0   0   0   0   0   0   0\n    0   0   0   0   0   0   0   0   0   0]\n [  0   0   0   0   0   0   0   0   0   0   0   0   1   0   0  13  73   0\n    0   1   4   0   0   0   0   1   1   0]\n [  0   0   0   0   0   0   0   0   0   0   0   0   3   0  36 136 127  62\n   54   0   0   0   1   3   4   0   0   3]\n [  0   0   0   0   0   0   0   0   0   0   0   0   6   0 102 204 176 134\n  144 123  23   0   0   0   0  12  10   0]\n [  0   0   0   0   0   0   0   0   0   0   0   0   0   0 155 236 207 178\n  107 156 161 109  64  23  77 130  72  15]\n [  0   0   0   0   0   0   0   0   0   0   0   1   0  69 207 223 218 216\n  216 163 127 121 122 146 141  88 172  66]\n [  0   0   0   0   0   0   0   0   0   1   1   1   0 200 232 232 233 229\n  223 223 215 213 164 127 123 196 229   0]\n [  0   0   0   0   0   0   0   0   0   0   0   0   0 183 225 216 223 228\n  235 227 224 222 224 221 223 245 173   0]\n [  0   0   0   0   0   0   0   0   0   0   0   0   0 193 228 218 213 198\n  180 212 210 211 213 223 220 243 202   0]\n [  0   0   0   0   0   0   0   0   0   1   3   0  12 219 220 212 218 192\n  169 227 208 218 224 212 226 197 209  52]\n [  0   0   0   0   0   0   0   0   0   0   6   0  99 244 222 220 218 203\n  198 221 215 213 222 220 245 119 167  56]\n [  0   0   0   0   0   0   0   0   0   4   0   0  55 236 228 230 228 240\n  232 213 218 223 234 217 217 209  92   0]\n [  0   0   1   4   6   7   2   0   0   0   0   0 237 226 217 223 222 219\n  222 221 216 223 229 215 218 255  77   0]\n [  0   3   0   0   0   0   0   0   0  62 145 204 228 207 213 221 218 208\n  211 218 224 223 219 215 224 244 159   0]\n [  0   0   0   0  18  44  82 107 189 228 220 222 217 226 200 205 211 230\n  224 234 176 188 250 248 233 238 215   0]\n [  0  57 187 208 224 221 224 208 204 214 208 209 200 159 245 193 206 223\n  255 255 221 234 221 211 220 232 246   0]\n [  3 202 228 224 221 211 211 214 205 205 205 220 240  80 150 255 229 221\n  188 154 191 210 204 209 222 228 225   0]\n [ 98 233 198 210 222 229 229 234 249 220 194 215 217 241  65  73 106 117\n  168 219 221 215 217 223 223 224 229  29]\n [ 75 204 212 204 193 205 211 225 216 185 197 206 198 213 240 195 227 245\n  239 223 218 212 209 222 220 221 230  67]\n [ 48 203 183 194 213 197 185 190 194 192 202 214 219 221 220 236 225 216\n  199 206 186 181 177 172 181 205 206 115]\n [  0 122 219 193 179 171 183 196 204 210 213 207 211 210 200 196 194 191\n  195 191 198 192 176 156 167 177 210  92]\n [  0   0  74 189 212 191 175 172 175 181 185 188 189 188 193 198 204 209\n  210 210 211 188 188 194 192 216 170   0]\n [  2   0   0   0  66 200 222 237 239 242 246 243 244 221 220 193 191 179\n  182 182 181 176 166 168  99  58   0   0]\n [  0   0   0   0   0   0   0  40  61  44  72  41  35   0   0   0   0   0\n    0   0   0   0   0   0   0   0   0   0]\n [  0   0   0   0   0   0   0   0   0   0   0   0   0   0   0   0   0   0\n    0   0   0   0   0   0   0   0   0   0]\n [  0   0   0   0   0   0   0   0   0   0   0   0   0   0   0   0   0   0\n    0   0   0   0   0   0   0   0   0   0]]\n"
     ]
    }
   ],
   "source": [
    "print(training_images[0])"
   ]
  },
  {
   "source": [
    "Normalization"
   ],
   "cell_type": "markdown",
   "metadata": {}
  },
  {
   "cell_type": "code",
   "execution_count": 23,
   "metadata": {},
   "outputs": [],
   "source": [
    "training_images=training_images/255.0\n",
    "testing_images=testing_images/255.0"
   ]
  },
  {
   "source": [
    "Design The Model"
   ],
   "cell_type": "markdown",
   "metadata": {}
  },
  {
   "cell_type": "code",
   "execution_count": 35,
   "metadata": {},
   "outputs": [],
   "source": [
    "model=tf.keras.models.Sequential([\n",
    "    tf.keras.layers.Flatten(),\n",
    "    tf.keras.layers.Dense(128,activation=tf.nn.relu),\n",
    "    tf.keras.layers.Dense(128,activation=tf.nn.relu),\n",
    "    tf.keras.layers.Dense(128,activation=tf.nn.relu),\n",
    "    tf.keras.layers.Dense(10,activation=tf.nn.softmax)\n",
    "])"
   ]
  },
  {
   "cell_type": "code",
   "execution_count": 36,
   "metadata": {},
   "outputs": [],
   "source": [
    "model.compile(\n",
    "    optimizer=tf.keras.optimizers.Adam(),\n",
    "    loss=\"sparse_categorical_crossentropy\",\n",
    "    metrics=['accuracy']\n",
    ")"
   ]
  },
  {
   "cell_type": "code",
   "execution_count": 37,
   "metadata": {},
   "outputs": [
    {
     "output_type": "stream",
     "name": "stdout",
     "text": [
      "Epoch 1/15\n",
      "60000/60000 [==============================] - 6s 103us/sample - loss: 0.8109 - acc: 0.6980\n",
      "Epoch 2/15\n",
      "60000/60000 [==============================] - 7s 121us/sample - loss: 0.5361 - acc: 0.8063\n",
      "Epoch 3/15\n",
      "60000/60000 [==============================] - 10s 169us/sample - loss: 0.4704 - acc: 0.8302\n",
      "Epoch 4/15\n",
      "60000/60000 [==============================] - 10s 173us/sample - loss: 0.4337 - acc: 0.8434\n",
      "Epoch 5/15\n",
      "60000/60000 [==============================] - 9s 149us/sample - loss: 0.4073 - acc: 0.8511\n",
      "Epoch 6/15\n",
      "60000/60000 [==============================] - 9s 151us/sample - loss: 0.3894 - acc: 0.8578\n",
      "Epoch 7/15\n",
      "60000/60000 [==============================] - 10s 169us/sample - loss: 0.3721 - acc: 0.8640\n",
      "Epoch 8/15\n",
      "60000/60000 [==============================] - 9s 156us/sample - loss: 0.3572 - acc: 0.8690\n",
      "Epoch 9/15\n",
      "60000/60000 [==============================] - 10s 170us/sample - loss: 0.3462 - acc: 0.8719\n",
      "Epoch 10/15\n",
      "60000/60000 [==============================] - 10s 173us/sample - loss: 0.3333 - acc: 0.8773\n",
      "Epoch 11/15\n",
      "60000/60000 [==============================] - 9s 156us/sample - loss: 0.3239 - acc: 0.8806\n",
      "Epoch 12/15\n",
      "60000/60000 [==============================] - 8s 142us/sample - loss: 0.3157 - acc: 0.8835\n",
      "Epoch 13/15\n",
      "60000/60000 [==============================] - 10s 168us/sample - loss: 0.3070 - acc: 0.8874\n",
      "Epoch 14/15\n",
      "60000/60000 [==============================] - 11s 182us/sample - loss: 0.3018 - acc: 0.8891\n",
      "Epoch 15/15\n",
      "60000/60000 [==============================] - 11s 178us/sample - loss: 0.2939 - acc: 0.8910\n"
     ]
    },
    {
     "output_type": "execute_result",
     "data": {
      "text/plain": [
       "<tensorflow.python.keras.callbacks.History at 0x7fde13de2d30>"
      ]
     },
     "metadata": {},
     "execution_count": 37
    }
   ],
   "source": [
    "model.fit(training_images,training_labels,epochs=15)"
   ]
  },
  {
   "source": [
    "Model's Accuracy on training data = 88.73%  \n",
    "Now lets test the Model"
   ],
   "cell_type": "markdown",
   "metadata": {}
  },
  {
   "cell_type": "code",
   "execution_count": 38,
   "metadata": {},
   "outputs": [
    {
     "output_type": "stream",
     "name": "stdout",
     "text": [
      "10000/10000 [==============================] - 1s 104us/sample - loss: 67.1755 - acc: 0.7396\n"
     ]
    },
    {
     "output_type": "execute_result",
     "data": {
      "text/plain": [
       "[67.17550702514649, 0.7396]"
      ]
     },
     "metadata": {},
     "execution_count": 38
    }
   ],
   "source": [
    "model.evaluate(testing_images,testing_labels)"
   ]
  },
  {
   "source": [
    "Model's Accuracy on testing data = 73.96%"
   ],
   "cell_type": "markdown",
   "metadata": {}
  },
  {
   "cell_type": "code",
   "execution_count": 39,
   "metadata": {},
   "outputs": [
    {
     "output_type": "stream",
     "name": "stdout",
     "text": [
      "Model: \"sequential_1\"\n_________________________________________________________________\nLayer (type)                 Output Shape              Param #   \n=================================================================\nflatten_1 (Flatten)          multiple                  0         \n_________________________________________________________________\ndense_2 (Dense)              multiple                  100480    \n_________________________________________________________________\ndense_3 (Dense)              multiple                  16512     \n_________________________________________________________________\ndense_4 (Dense)              multiple                  16512     \n_________________________________________________________________\ndense_5 (Dense)              multiple                  1290      \n=================================================================\nTotal params: 134,794\nTrainable params: 134,794\nNon-trainable params: 0\n_________________________________________________________________\n"
     ]
    }
   ],
   "source": [
    "model.summary()"
   ]
  },
  {
   "cell_type": "code",
   "execution_count": null,
   "metadata": {},
   "outputs": [],
   "source": []
  }
 ]
}